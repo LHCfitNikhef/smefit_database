{
 "cells": [
  {
   "cell_type": "code",
   "execution_count": 1,
   "metadata": {},
   "outputs": [],
   "source": [
    "import json"
   ]
  },
  {
   "cell_type": "code",
   "execution_count": 4,
   "metadata": {},
   "outputs": [],
   "source": [
    "for ener in ['240','365']:\n",
    "    for chan in ['aa','bb','aZ','cc','gg','tautau','WW','ZZ']:\n",
    "        if ener=='365' and chan=='aZ': continue\n",
    "        with open('output_Zh_'+chan+'_NLO_EW_'+ener+'GeV.json') as file:\n",
    "            file_new=json.load(file)\n",
    "            with open('D:\\\\Users\\\\Alejo\\\\Documents\\\\Github\\\\smefit_database\\\\theory\\\\FCCee_zh_'+chan+'_'+ener+'GeV.json') as filefcc:\n",
    "                fccdict=json.load(filefcc)\n",
    "                del fccdict['NLO']\n",
    "                fccdict['NLO_EW']=file_new\n",
    "                fccdict['best_sm']=file_new['SM']\n",
    "                with open('FCCee_zh_'+chan+'_'+ener+'GeV.json','w') as filenew:\n",
    "                    json.dump(fccdict,filenew)\n",
    "                with open('CEPC_zh_'+chan+'_'+ener+'GeV.json','w') as cepcnew:\n",
    "                    json.dump(fccdict,cepcnew)"
   ]
  },
  {
   "cell_type": "code",
   "execution_count": 5,
   "metadata": {},
   "outputs": [],
   "source": [
    "for ener in ['240','365']:\n",
    "        with open('output_Zh_NLO_EW_'+ener+'GeV.json') as file:\n",
    "            file_new=json.load(file)\n",
    "            with open('D:\\\\Users\\\\Alejo\\\\Documents\\\\Github\\\\smefit_database\\\\theory\\\\FCCee_zh_'+ener+'GeV.json') as filefcc:\n",
    "                fccdict=json.load(filefcc)\n",
    "                fccdict['NLO_EW']=file_new\n",
    "                del fccdict['NLO']\n",
    "                fccdict['best_sm']=file_new['SM']\n",
    "                with open('FCCee_zh_'+ener+'GeV.json','w') as filenew:\n",
    "                    json.dump(fccdict,filenew)\n",
    "                with open('CEPC_zh_'+ener+'GeV.json','w') as cepcnew:\n",
    "                    json.dump(fccdict,cepcnew)"
   ]
  },
  {
   "cell_type": "code",
   "execution_count": null,
   "metadata": {},
   "outputs": [],
   "source": []
  }
 ],
 "metadata": {
  "kernelspec": {
   "display_name": "Python 3",
   "language": "python",
   "name": "python3"
  },
  "language_info": {
   "codemirror_mode": {
    "name": "ipython",
    "version": 3
   },
   "file_extension": ".py",
   "mimetype": "text/x-python",
   "name": "python",
   "nbconvert_exporter": "python",
   "pygments_lexer": "ipython3",
   "version": "3.9.1"
  }
 },
 "nbformat": 4,
 "nbformat_minor": 2
}
